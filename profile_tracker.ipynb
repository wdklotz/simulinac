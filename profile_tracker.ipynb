{
 "cells": [
  {
   "cell_type": "code",
   "execution_count": 15,
   "id": "53ac1fd7",
   "metadata": {},
   "outputs": [
    {
     "name": "stdout",
     "output_type": "stream",
     "text": [
      "running in 'linac' mode\n",
      "            ================= Tracker Log ==================\n",
      "            Description............. : Input file from Steve: SH/trackerIN_smh27.yml \n",
      "            Options................. : {'particles_per_bunch': 220, 'show': False, 'save': False, 'skip': 1, 'losses': False, 'lrx': 1, 'h5dump': False, 'h5skip': 500, 'h5file': 'frames.h5'} \n",
      "            Tk_i...............[MeV] : 6.0 kin. energy @ injection \n",
      "            acceptance..Δp/p.....[%] : 1.359 \n",
      "            acceptance..Δγ.......... : 1.73e-04 \n",
      "            lattice version......... : working version \n",
      "            mapping................. : base \n",
      "            useaper................. : True \n",
      "            ΔT/T_i..(ΔW/W).......[%] : 0.900 kin. energy spread \n",
      "            Δp/p0................[%] : 0.451 \n",
      "            βw_i...............[rad] :  5458.65 \n",
      "            βx_i.................[m] :     0.92 \n",
      "            βy_i.................[m] :    0.236 \n",
      "            βz_i.............[m/rad] : 0.498294 \n",
      "            εw_i..{Δφ,Δγ}......[rad] : 1.81e-05 \n",
      "            εx_i.................[m] :    1e-06 \n",
      "            εy_i.................[m] :    1e-06 \n",
      "            εz_i..{z,Δp/p}.......[m] : 1.01549e-05 \n",
      "            σ(x,x')_i......([m,rad]) : 9.59e-04 1.04e-03 \n",
      "            σ(y,y')_i......([m,rad]) : 4.86e-04 2.06e-03 \n",
      "            σ(z,Δp/p)_i.......([m,]) : 2.25e-03 4.51e-03 \n",
      "            σ(Δφ,Δγ)_i......([deg,]) : 1.80e+01 5.76e-05 \n",
      "            σ(Δφ,Δγ)_i......([rad,]) : 3.14e-01 5.76e-05 \n",
      "\n",
      "\n",
      "Progress: |█████████████████████████████████████████████████-| 99.1% complete\n",
      "TRACKING DONE (particles 220, live 148, lost 72)\n",
      "\n",
      "total time     >> 221.875 [sec]\n",
      "parse lattice  >>  3.906 [sec]  1.8 [%]\n",
      "generate bunch >>  0.000 [sec]  0.0 [%]\n",
      "track bunch    >> 217.969 [sec] 98.2 [%]\n",
      "fill plots     >>  0.000 [sec]  0.0 [%]\n",
      "save frames    >>  0.000 [sec]  0.0 [%]\n",
      "bin losses     >>  0.000 [sec]  0.0 [%]\n"
     ]
    }
   ],
   "source": [
    "import cProfile\n",
    "import tracker\n",
    "\n",
    "def profile_tracker(input_file):\n",
    "    hide=True\n",
    "    options=dict(\n",
    "        particles_per_bunch=220,\n",
    "        show=not hide,\n",
    "        save=False,\n",
    "        skip=1,\n",
    "        losses=False,\n",
    "        lrx=1,\n",
    "        h5dump=False,\n",
    "        h5skip=500,\n",
    "        h5file='frames.h5'\n",
    "        )\n",
    "    tracker.tracker(input_file,options)\n",
    "\n",
    "cProfile.run(\"profile_tracker('trackerIN_smh27-3.1.5.work.yml')\",\"profile_tracker.stats\")\n"
   ]
  },
  {
   "cell_type": "code",
   "execution_count": 33,
   "id": "ddeaf0c6",
   "metadata": {},
   "outputs": [
    {
     "name": "stdout",
     "output_type": "stream",
     "text": [
      "Fri May  5 16:45:50 2023    profile_tracker.stats\n",
      "\n",
      "         191876086 function calls (191818754 primitive calls) in 221.739 seconds\n",
      "\n",
      "   Ordered by: cumulative time, internal time\n",
      "   <Invalid regular expression 'C:[\\\\]Users[\\\\]wdklotz[\\\\]SIMULINAC[\\\\]*.py'>\n",
      "   List reduced from 365 to 20 due to restriction <20>\n",
      "\n",
      "   ncalls  tottime  percall  cumtime  percall filename:lineno(function)\n",
      "        1    0.000    0.000  221.739  221.739 {built-in method builtins.exec}\n",
      "        1    0.000    0.000  221.739  221.739 <string>:1(<module>)\n",
      "        1    0.001    0.001  221.739  221.739 <ipython-input-15-de01d6f298a8>:4(profile_tracker)\n",
      "        1    0.000    0.000  221.738  221.738 C:\\Users\\wdklotz\\SIMULINAC\\tracker.py:376(tracker)\n",
      "        1    4.797    4.797  217.838  217.838 C:\\Users\\wdklotz\\SIMULINAC\\tracker.py:319(track)\n",
      "  4593119   29.892    0.000  212.254    0.000 C:\\Users\\wdklotz\\SIMULINAC\\tracker.py:272(track_node_1)\n",
      "  1350707    7.645    0.000   75.157    0.000 C:\\Users\\wdklotz\\SIMULINAC\\elements.py:851(aper_check)\n",
      "  1350708   36.745    0.000   60.312    0.000 C:\\Users\\wdklotz\\SIMULINAC\\elements.py:766(waccept)\n",
      "  1359107   17.522    0.000   58.763    0.000 C:\\Users\\wdklotz\\SIMULINAC\\elements.py:676(base_map_1)\n",
      "  4593119   19.935    0.000   23.634    0.000 C:\\Users\\wdklotz\\SIMULINAC\\tracker.py:274(norm)\n",
      "  4060522   15.018    0.000   19.817    0.000 C:\\Users\\wdklotz\\SIMULINAC\\setutil.py:192(__init__)\n",
      "  3262575    2.021    0.000   12.731    0.000 C:\\Users\\wdklotz\\SIMULINAC\\elements.py:76(map)\n",
      "  3262579    2.039    0.000   10.709    0.000 <__array_function__ internals>:2(dot)\n",
      "  1359107   10.026    0.000   10.026    0.000 C:\\Users\\wdklotz\\SIMULINAC\\setutil.py:396(I0)\n",
      "3296193/3279383    8.268    0.000    8.512    0.000 {built-in method numpy.core._multiarray_umath.implement_array_function}\n",
      "  1438290    2.136    0.000    8.047    0.000 C:\\Users\\wdklotz\\SIMULINAC\\setutil.py:179(__init__)\n",
      "  1350708    5.020    0.000    6.388    0.000 C:\\Users\\wdklotz\\SIMULINAC\\separatrix.py:27(w2phi)\n",
      "  1438290    1.006    0.000    5.911    0.000 C:\\Users\\wdklotz\\SIMULINAC\\setutil.py:128(__init__)\n",
      " 15526710    5.593    0.000    5.593    0.000 {built-in method math.sqrt}\n",
      "  1359107    4.988    0.000    4.988    0.000 C:\\Users\\wdklotz\\SIMULINAC\\setutil.py:402(I1)\n",
      "\n",
      "\n"
     ]
    },
    {
     "data": {
      "text/plain": [
       "<pstats.Stats at 0x1d57a2d6088>"
      ]
     },
     "execution_count": 33,
     "metadata": {},
     "output_type": "execute_result"
    }
   ],
   "source": [
    "import pstats\n",
    "from pstats import SortKey\n",
    "p=pstats.Stats(\"profile_tracker.stats\")\n",
    "p.sort_stats('cumtime','tottime').print_stats(\"C:[\\]Users[\\]wdklotz[\\]SIMULINAC[\\]*.py\",20)"
   ]
  },
  {
   "cell_type": "code",
   "execution_count": null,
   "id": "b36815b4",
   "metadata": {},
   "outputs": [],
   "source": []
  }
 ],
 "metadata": {
  "kernelspec": {
   "display_name": "py37",
   "language": "python",
   "name": "py37"
  },
  "language_info": {
   "codemirror_mode": {
    "name": "ipython",
    "version": 3
   },
   "file_extension": ".py",
   "mimetype": "text/x-python",
   "name": "python",
   "nbconvert_exporter": "python",
   "pygments_lexer": "ipython3",
   "version": "3.7.5"
  }
 },
 "nbformat": 4,
 "nbformat_minor": 5
}
