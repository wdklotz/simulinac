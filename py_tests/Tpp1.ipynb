{
 "cells": [
  {
   "cell_type": "markdown",
   "id": "4c6a3384-99aa-4868-b127-9644f327684a",
   "metadata": {},
   "source": [
    "Shislo's 4.6.9 formula"
   ]
  },
  {
   "cell_type": "code",
   "execution_count": null,
   "id": "8e264ccd-c310-4903-88a8-194b4536ef4e",
   "metadata": {},
   "outputs": [],
   "source": [
    "from sympy import *\n",
    "from IPython.display import Math, display_latex,display_pretty,display_pdf\n",
    "# init_printing(pretty_print=True,use_unicode=True)"
   ]
  },
  {
   "cell_type": "code",
   "execution_count": 1,
   "id": "59fe41b1-2e67-4414-9ce0-a3bcac56365b",
   "metadata": {},
   "outputs": [
    {
     "ename": "NameError",
     "evalue": "name 'symbols' is not defined",
     "output_type": "error",
     "traceback": [
      "\u001b[1;31m---------------------------------------------------------------------------\u001b[0m",
      "\u001b[1;31mNameError\u001b[0m                                 Traceback (most recent call last)",
      "Cell \u001b[1;32mIn[1], line 1\u001b[0m\n\u001b[1;32m----> 1\u001b[0m C1      \u001b[38;5;241m=\u001b[39msymbols(\u001b[38;5;124m'\u001b[39m\u001b[38;5;124mC1\u001b[39m\u001b[38;5;124m'\u001b[39m)    \u001b[38;5;66;03m# W-Ws 4.6.7 mc**2*gamma**3*betas**2\u001b[39;00m\n\u001b[0;32m      2\u001b[0m C2      \u001b[38;5;241m=\u001b[39msymbols(\u001b[38;5;124m'\u001b[39m\u001b[38;5;124mC2\u001b[39m\u001b[38;5;124m'\u001b[39m)    \u001b[38;5;66;03m# W-Ws 4.6.2 omega/(m*c**3)/(gamma*beta)**3\u001b[39;00m\n\u001b[0;32m      3\u001b[0m C3      \u001b[38;5;241m=\u001b[39msymbols(\u001b[38;5;124m'\u001b[39m\u001b[38;5;124mC3\u001b[39m\u001b[38;5;124m'\u001b[39m)    \u001b[38;5;66;03m# W-Ws 4.6.4 omega/(c*betas)\u001b[39;00m\n",
      "\u001b[1;31mNameError\u001b[0m: name 'symbols' is not defined"
     ]
    }
   ],
   "source": [
    "C1      =symbols('C1')    # W-Ws 4.6.7 mc**2*gamma**3*betas**2\n",
    "C2      =symbols('C2')    # W-Ws 4.6.2 omega/(m*c**3)/(gamma*beta)**3\n",
    "C3      =symbols('C3')    # W-Ws 4.6.4 omega/(c*betas)\n",
    "DE      =symbols('DE')    # W-Ws 4.6.7\n",
    "bs      =symbols('bs')    # βs\n",
    "gs      =symbols('gs')    # γs\n",
    "gbs     =symbols('gbs')   # γ*β\n",
    "Dbbs    =symbols('Dbbs')  # Δβ/βs\n",
    "z       =symbols('z')     # z \n",
    "E0      =symbols('E0')    # m0*c**2\n",
    "DWs     =symbols('DWs')   # Ws(out)-Ws(in) 4.6.1\n",
    "DW      =symbols('DW')    # W(out)-W(in)   4.6.1\n",
    "Dphis   =symbols('Dphis') # φs(out)-φs(in) 4.6.2\n",
    "Dphi    =symbols('Dphi')  # φ(out)-φ(in)   4.6.2\n",
    "qV0     =symbols('qV0')   # qV0\n",
    "phis    =symbols('phis')  # φs(in)\n",
    "phi     =symbols('phi')   # φ(in)\n",
    "kis     =symbols('kis')   # ks(in)\n",
    "ki      =symbols('ki')    # ks\n",
    "om      =symbols('om')    # omega\n",
    "cl      =symbols('cl')    # c-light\n",
    "\n",
    "T       =Function('T')    # T(k)\n",
    "S       =Function('S')    # S(k)\n",
    "Tp      =Function('Tp')   # T'(k)\n",
    "Sp      =Function('Sp')   # S'(k)\n",
    "Tpp     =Function('Tpp')  # T''(k)\n",
    "Spp     =Function('Spp')  # S''(k)\n"
   ]
  },
  {
   "cell_type": "markdown",
   "id": "b7a1152c",
   "metadata": {},
   "source": [
    "Conversion Δβ/β to energy in [MeV]"
   ]
  },
  {
   "cell_type": "code",
   "execution_count": null,
   "id": "c60d9ba8",
   "metadata": {},
   "outputs": [
    {
     "name": "stdout",
     "output_type": "stream",
     "text": [
      "W-Ws = C1*Dbbs Shishlo 4.6.7\n"
     ]
    }
   ],
   "source": [
    "# bs=sqrt(1-1/gs**2)\n",
    "# C1=E0*gs**3*bs**2\n",
    "# mc3=E0*cl\n",
    "# C2=om/mc3/gbs**3\n",
    "# omc=om/cl\n",
    "# C3=om/cl/bs\n",
    "# print(omc)\n",
    "\n",
    "DE = simplify(Dbbs*C1)\n",
    "print(f'W-Ws = {sstr(DE)} Shishlo 4.6.7')"
   ]
  },
  {
   "cell_type": "markdown",
   "id": "56f8da6a",
   "metadata": {},
   "source": [
    "Energy increase for synchronous particle  4.6.1"
   ]
  },
  {
   "cell_type": "code",
   "execution_count": null,
   "id": "4da2523a",
   "metadata": {},
   "outputs": [
    {
     "data": {
      "text/latex": [
       "$\\displaystyle W^{out}_{s}-W^{in}_{s} = qV0*(-S(kis)*sin(phis) + T(kis)*cos(phis))$"
      ]
     },
     "metadata": {},
     "output_type": "display_data"
    }
   ],
   "source": [
    "DWs=qV0*(T(kis)*cos(phis)-S(kis)*sin(phis))    # 4.6.1\n",
    "display_latex(Math(r'W^{1}_{3}-W^{2}_{3} = {0}'.format(DWs,'{out}','{in}','{s}')))\n"
   ]
  },
  {
   "cell_type": "markdown",
   "id": "a7574797",
   "metadata": {},
   "source": [
    "Energy increase for particle  4.6.1"
   ]
  },
  {
   "cell_type": "code",
   "execution_count": null,
   "id": "02d3e30d",
   "metadata": {},
   "outputs": [
    {
     "data": {
      "text/latex": [
       "$\\displaystyle W^{out}-W^{in} = qV0*(-S(ki)*sin(phi) + T(ki)*cos(phi))$"
      ]
     },
     "metadata": {},
     "output_type": "display_data"
    }
   ],
   "source": [
    "DW=qV0*(T(ki)*cos(phi)-S(ki)*sin(phi))    # 4.6.1\n",
    "display_latex(Math(r'W^{1}-W^{2} = {0}'.format(DW,'{out}','{in}')))\n"
   ]
  },
  {
   "cell_type": "markdown",
   "id": "07b4ae17",
   "metadata": {},
   "source": [
    "Phase increase for synchronous particle  4.6.2"
   ]
  },
  {
   "cell_type": "code",
   "execution_count": null,
   "id": "b1927edd",
   "metadata": {},
   "outputs": [
    {
     "data": {
      "text/latex": [
       "$\\phi^{out}_{s}-\\phi^{in}_{s} = C2*qV0*(Sp(kis)*cos(phis) + Tp(kis)*sin(phis))\\qquad\\;\\;\\;\\;\\;(4.6.2)$"
      ]
     },
     "metadata": {},
     "output_type": "display_data"
    }
   ],
   "source": [
    "Dphis=qV0*C2*(Tp(kis)*sin(phis)+Sp(kis)*cos(phis))\n",
    "# what=Math('\\phi^{{out}}_{{s}}-\\phi^{{in}}_{{s}} = {}'.format(Dphis))\n",
    "# display_latex(what,raw=False)\n",
    "what='$\\phi^{{out}}_{{s}}-\\phi^{{in}}_{{s}} = {}\\qquad\\;\\;\\;\\;\\;(4.6.2)$'.format(Dphis)\n",
    "display_latex(what,raw=True)\n"
   ]
  },
  {
   "cell_type": "markdown",
   "id": "e74519bf",
   "metadata": {},
   "source": [
    "Phase increase for particle  4.6.2"
   ]
  },
  {
   "cell_type": "code",
   "execution_count": null,
   "id": "150e7f49",
   "metadata": {},
   "outputs": [
    {
     "data": {
      "text/latex": [
       "$\\displaystyle \\phi^{out}-\\phi^{in} = C2*qV0*(Sp(ki)*cos(phi) + Tp(ki)*sin(phi))\\qquad\\;\\;\\;\\;\\;(4.6.2)$"
      ]
     },
     "metadata": {},
     "output_type": "display_data"
    }
   ],
   "source": [
    "Dphi=qV0*C2*(Tp(ki)*sin(phi)+Sp(ki)*cos(phi))\n",
    "display_latex(Math('\\phi^{{out}}-\\phi^{{in}} = {}\\qquad\\;\\;\\;\\;\\;(4.6.2)'.format(Dphi)))\n"
   ]
  },
  {
   "cell_type": "code",
   "execution_count": null,
   "id": "e7bdc9ec",
   "metadata": {},
   "outputs": [
    {
     "data": {
      "text/latex": [
       "$T(k) = -C3*Dbbs*Tp(kis) + T(kis),\\quad S(k) = -C3*Dbbs*Sp(kis) + S(kis)$"
      ]
     },
     "metadata": {},
     "output_type": "display_data"
    },
    {
     "data": {
      "text/latex": [
       "$T'(k) = -C3*Dbbs*Tpp(kis) + Tp(kis),\\quad S'(k) = -C3*Dbbs*Spp(kis) + Sp(kis)$"
      ]
     },
     "metadata": {},
     "output_type": "display_data"
    },
    {
     "data": {
      "text/latex": [
       "$COS(phi) = C3*z*sin(phis) + cos(phis),\\quad SIN(phi) = -C3*z*cos(phis) + sin(phis)$"
      ]
     },
     "metadata": {},
     "output_type": "display_data"
    },
    {
     "data": {
      "text/latex": [
       "$\\displaystyle W^{{out}}-W^{{in}} = $"
      ]
     },
     "metadata": {},
     "output_type": "display_data"
    },
    {
     "data": {
      "text/plain": [
       "-qV0*(C3**2*Dbbs*z*Sp(kis)*cos(phis) + C3**2*Dbbs*z*Tp(kis)*sin(phis) - C3*Dbbs*Sp(kis)*sin(phis) + C3*Dbbs*Tp(kis)*cos(phis) - C3*z*S(kis)*cos(phis) - C3*z*T(kis)*sin(phis) + S(kis)*sin(phis) - T(kis)*cos(phis))"
      ]
     },
     "metadata": {},
     "output_type": "display_data"
    }
   ],
   "source": [
    "Ti=T(kis)-Tp(kis)*C3*Dbbs     # 4.6.3 Näherung für T(k)\n",
    "Si=S(kis)-Sp(kis)*C3*Dbbs\n",
    "exp='$T(k) = {},\\quad S(k) = {}$'.format(Ti,Si)\n",
    "display_latex(exp,raw=True)\n",
    "\n",
    "Tpi=Tp(kis)-Tpp(kis)*C3*Dbbs   # 4.6.4 Naherung fÜr T'(k)\n",
    "Spi=Sp(kis)-Spp(kis)*C3*Dbbs\n",
    "exp=\"$T'(k) = {},\\quad S'(k) = {}$\".format(Tpi,Spi)\n",
    "display_latex(exp,raw=True)\n",
    "\n",
    "COS=cos(phis)+sin(phis)*(C3)*z  # 4.6.6 Naherung fÜr cos(phi)\n",
    "SIN=sin(phis)-cos(phis)*(C3)*z  # 4.6.6 Naherung fÜr sin(phi)\n",
    "exp=\"$COS(phi) = {},\\quad SIN(phi) = {}$\".format(COS,SIN)\n",
    "display_latex(exp,raw=True)\n",
    "\n",
    "DW=qV0*(Ti*COS-Si*SIN)    # 4.6.1\n",
    "display_latex(Math('W^{{out}}-W^{{in}} = '))\n",
    "display_pretty(factor(DW))\n",
    "\n",
    "# Dphi=qV0*C2*(Tpi*SIN+Spi*COS)\n",
    "# display_latex(Math('\\phi^{{out}}-\\phi^{{in}} = '))\n",
    "# display_pretty(factor(Dphi))\n",
    "# display_pdf(collect(Dphi,Dbbs))\n"
   ]
  }
 ],
 "metadata": {
  "kernelspec": {
   "display_name": "py311",
   "language": "python",
   "name": "python3"
  },
  "language_info": {
   "codemirror_mode": {
    "name": "ipython",
    "version": 3
   },
   "file_extension": ".py",
   "mimetype": "text/x-python",
   "name": "python",
   "nbconvert_exporter": "python",
   "pygments_lexer": "ipython3",
   "version": "3.11.11"
  }
 },
 "nbformat": 4,
 "nbformat_minor": 5
}
