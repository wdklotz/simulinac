{
 "cells": [
  {
   "cell_type": "markdown",
   "id": "4c6a3384-99aa-4868-b127-9644f327684a",
   "metadata": {},
   "source": [
    "Shislo's 4.6.1 formula     $\\Delta W$"
   ]
  },
  {
   "cell_type": "code",
   "execution_count": 1,
   "id": "8e264ccd-c310-4903-88a8-194b4536ef4e",
   "metadata": {
    "editable": true,
    "slideshow": {
     "slide_type": ""
    },
    "tags": []
   },
   "outputs": [],
   "source": [
    "from sympy import *\n",
    "from IPython.display import Math, display_latex,display_pretty,display_pdf\n",
    "# init_printing(pretty_print=True,use_unicode=True)"
   ]
  },
  {
   "cell_type": "code",
   "execution_count": null,
   "id": "17644f79",
   "metadata": {
    "editable": true,
    "slideshow": {
     "slide_type": ""
    },
    "tags": []
   },
   "outputs": [
    {
     "data": {
      "text/plain": [
       "qV0*(Sk*cphi*g2*k*z - Sk*g2*sphi - Spk*cphi*k**2*z*zp + Spk*k*sphi*zp + Tk*cphi*g2 + Tk*g2*k*sphi*z - Tpk*cphi*k*zp - Tpk*k**2*sphi*z*zp)/g2"
      ]
     },
     "metadata": {},
     "output_type": "display_data"
    }
   ],
   "source": [
    "qV0,k,m0c3,g,g2,b,cphi,sphi,z,zp = symbols('qV0,k,m0c3,g,g2,b,cphi,sphi,z,zp')\n",
    "Tk,Tpk,Sk,Spk =symbols('Tk,Tpk,Sk,Spk')\n",
    "# g2 = g**2\n",
    "Db2b = 1/g2*zp\n",
    "T=Tk-Tpk*k*Db2b\n",
    "S=Sk-Spk*k*Db2b\n",
    "cosphi=cphi+sphi*k*z\n",
    "sinphi=sphi-cphi*k*z\n",
    "WoWi=qV0*(T*cosphi-S*sinphi)    # Shishlo 4.6.1\n",
    "display_pretty(factor(WoWi))\n",
    "# display_latex(Math(r'W^{1}-W^{2} = {0}'.format(WoWi,'{out}','{in}')))\n"
   ]
  },
  {
   "cell_type": "markdown",
   "id": "35f90372-9300-44a0-bb0f-f82642828bc2",
   "metadata": {},
   "source": [
    "Shislo's 4.6.2 formula   $\\Delta \\phi $"
   ]
  },
  {
   "cell_type": "code",
   "execution_count": null,
   "id": "b9478c2f",
   "metadata": {},
   "outputs": [
    {
     "data": {
      "text/plain": [
       "om*qV0*(b**3*g*g2 - 3*gb3*zp)*(Spk*cphi*g2 + Spk*g2*k*sphi*z - Sppk*cphi*k*zp - Sppk*k**2*sphi*z*zp - Tpk*cphi*g2*k*z + Tpk*g2*sphi + Tppk*cphi*k**2*z*zp - Tppk*k*sphi*zp)/(b**3*g*g2**2*gb3*m0c3)"
      ]
     },
     "metadata": {},
     "output_type": "display_data"
    }
   ],
   "source": [
    "Tppk,Sppk,om,gb3 = symbols('Tppk,Sppk,om,gb3')\n",
    "Tp=Tpk-Tppk*k*Db2b\n",
    "Sp=Spk-Sppk*k*Db2b\n",
    "# gb3= g**3*b**3\n",
    "PoPi=qV0*om/m0c3*(1/gb3-3/(g*b**3)*Db2b)*(Tp*sinphi+Sp*cosphi)   # Shishlo 4.6.2\n",
    "display_pretty(factor(PoPi))\n",
    "# display_latex(Math(r'\\phi^{1}-\\phi^{2} = {0}'.format(PoPi,'{out}','{in}')))"
   ]
  },
  {
   "cell_type": "markdown",
   "id": "cadfa418",
   "metadata": {},
   "source": [
    "INput: $W^{in}, W^{in}_s$ mit $W^{in}=W^{in}_s+\\Delta W^{in}$ - OUTput: $W^{out}, W^{out}_s$ - Index s für Sollteilchen <br><br>\n",
    "$W^{out}-W^{in}=\\Delta W=Formel(4.6.1)$ für $(z,\\delta p /p) \\ne (0,0)$<br>\n",
    "$W^{out}_s-W^{in}_s=\\Delta W_s=Formel(4.6.1)$ für $(z,\\delta p /p) = (0,0)$<br><br>\n",
    "$W^{out}-W^{out}_s=\\Delta W +W^{in} -(\\Delta W_s + W^{in}_s)=\\Delta W -\\Delta W_s - \\Delta W^{in}$<br><br>\n",
    "Dasselbe sollte für die Phase $\\phi$ mit $Formel (4.6.2)$ gelten."
   ]
  },
  {
   "cell_type": "markdown",
   "id": "6b29be87",
   "metadata": {},
   "source": [
    "\n",
    "<pre>\n",
    "WoWi = qV0/g2*(\n",
    "  (Sk*cphi     - Tk*sphi)*g2*k*z        # ~z\n",
    "- (Spk*sphi    - Tpk*cphi)*k*zp         # ~zp\n",
    "- (Tk*cphi     - Sk*sphi)*g2\n",
    "- (Spk*cphi    - Tpk*sphi)*k**2*z*zp    # ~z*zp\n",
    ")\n",
    "\n",
    "\n",
    "PoPi = om*qV0/(b**3*g*g2**2*gb3*m0c3)*\n",
    "(b**3*g*g2*(\n",
    "  (Spk*cphi  + Tpk*sphi)*g2\n",
    "+ (Spk*sphi  - Tpk*cphi)*g2*k*z         # ~z\n",
    "- (Sppk*cphi + Tppk*sphi)*k*zp          # ~zp\n",
    "- (Sppk*sphi - Tppk*cphi)*k**2*z*zp     # ~z*zp\n",
    "  )\n",
    "- 3*gb3*zp*( \n",
    "  (Spk*cphi  + Tpk*sphi)*g2             # ~zp\n",
    "+ (Spk*sphi  - Tpk*cphi)*g2*k*z         # ~zp*z\n",
    "- (Sppk*cphi + Tppk*sphi)*k*zp          # ~zp*zp\n",
    "- (Sppk*sphi - Tppk*cphi)*k**2*z*zp     # ~z*zp**2\n",
    "  )\n",
    ")\n",
    "</pre>\n"
   ]
  }
 ],
 "metadata": {
  "kernelspec": {
   "display_name": "py311",
   "language": "python",
   "name": "python3"
  },
  "language_info": {
   "codemirror_mode": {
    "name": "ipython",
    "version": 3
   },
   "file_extension": ".py",
   "mimetype": "text/x-python",
   "name": "python",
   "nbconvert_exporter": "python",
   "pygments_lexer": "ipython3",
   "version": "3.11.11"
  }
 },
 "nbformat": 4,
 "nbformat_minor": 5
}
