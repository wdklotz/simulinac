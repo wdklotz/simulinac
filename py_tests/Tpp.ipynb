{
 "cells": [
  {
   "cell_type": "markdown",
   "id": "4c6a3384-99aa-4868-b127-9644f327684a",
   "metadata": {},
   "source": [
    "# T(k),T'(k) and T''(k)"
   ]
  },
  {
   "cell_type": "code",
   "execution_count": 1,
   "id": "8e264ccd-c310-4903-88a8-194b4536ef4e",
   "metadata": {},
   "outputs": [
    {
     "data": {
      "text/latex": [
       "$\\displaystyle 0.19826300858091$"
      ],
      "text/plain": [
       "0.198263008580910"
      ]
     },
     "execution_count": 1,
     "metadata": {},
     "output_type": "execute_result"
    }
   ],
   "source": [
    "from sympy import *\n",
    "from IPython.display import Math, display_latex,display_pretty,display_pdf\n",
    "# init_printing(use_unicode=True)\n",
    "\n",
    "a,b,k,z,Dz = symbols('a b k z Dz')\n",
    "poly=1+a*z+b*z**2\n",
    "integrand=poly*cos(k*z)\n",
    "Integral(integrand,(z,-Dz,+Dz))   # Shishlo (4.4.5)\n",
    "V0=2*Dz+2*b/3*(Dz)**3    # Shishlo (4.4.3)\n",
    "Tk=integrate(integrand,(z,-Dz,+Dz))\n",
    "# factor(Tk)\n",
    "exsimp=simplify(Tk/V0)    # Shishlo (4.4.4)\n",
    "# exsimp\n",
    "vs=dict(b=1.5e-2,k=52,Dz=0.05)  # some test values\n",
    "exsimp.evalf(subs=vs)   # eval sympy result"
   ]
  },
  {
   "cell_type": "code",
   "execution_count": 2,
   "id": "e15ac617-2d92-421b-97e7-0671829539f6",
   "metadata": {},
   "outputs": [
    {
     "data": {
      "text/latex": [
       "$\\displaystyle 0.19826300858091$"
      ],
      "text/plain": [
       "0.198263008580910"
      ]
     },
     "execution_count": 2,
     "metadata": {},
     "output_type": "execute_result"
    }
   ],
   "source": [
    "def f1(b,k,Dz):\n",
    "    r=2*sin(k*Dz)/k/(2*Dz+2/3*b*Dz**3)*(1+b*Dz**2-2*b/k**2+2*b*k*Dz/k**2*cot(k*Dz))  # from Shislo (4.4.6)\n",
    "    return r\n",
    "f1(**vs)   # eval Shishlo"
   ]
  },
  {
   "cell_type": "code",
   "execution_count": 3,
   "id": "fc00fa4f-7223-4047-b454-9763ded63a9c",
   "metadata": {},
   "outputs": [
    {
     "data": {
      "text/latex": [
       "$\\displaystyle - z \\left(a z + b z^{2} + 1\\right) \\sin{\\left(k z \\right)}$"
      ],
      "text/plain": [
       "-z*(a*z + b*z**2 + 1)*sin(k*z)"
      ]
     },
     "execution_count": 3,
     "metadata": {},
     "output_type": "execute_result"
    }
   ],
   "source": [
    "integrand1=diff(integrand,k)\n",
    "integrand1"
   ]
  },
  {
   "cell_type": "code",
   "execution_count": 4,
   "id": "3aaa815a-12e8-41d3-807a-b8ab9a156cc7",
   "metadata": {},
   "outputs": [
    {
     "data": {
      "text/latex": [
       "$\\displaystyle -0.0202916277107499$"
      ],
      "text/plain": [
       "-0.0202916277107499"
      ]
     },
     "execution_count": 4,
     "metadata": {},
     "output_type": "execute_result"
    }
   ],
   "source": [
    "Tkp=integrate(integrand1,(z,-Dz,+Dz))\n",
    "factor(Tkp)\n",
    "exsimp1=simplify(Tkp/V0)\n",
    "# exsimp1\n",
    "exsimp1.evalf(subs=vs)   # eval simpy"
   ]
  },
  {
   "cell_type": "code",
   "execution_count": 5,
   "id": "6190ff78-aae8-4c51-b12e-3f4a2f102f17",
   "metadata": {},
   "outputs": [
    {
     "data": {
      "text/latex": [
       "$\\displaystyle -0.0202916277107499$"
      ],
      "text/plain": [
       "-0.0202916277107499"
      ]
     },
     "execution_count": 5,
     "metadata": {},
     "output_type": "execute_result"
    }
   ],
   "source": [
    "def f2(b,k,Dz):\n",
    "    r=-2*sin(k*Dz)/k/(2*Dz+2/3*b*Dz**3)*((1+3*b*Dz**2-6*b/k**2)/k-Dz*cot(k*Dz)*(1+b*Dz**2-6*b/k**2))  # from Shislo (4.4.8)\n",
    "    return r\n",
    "f2(**vs)"
   ]
  },
  {
   "cell_type": "code",
   "execution_count": 6,
   "id": "777fcd7a-f087-47ef-bc1a-84eb433cebf7",
   "metadata": {},
   "outputs": [
    {
     "data": {
      "text/latex": [
       "$\\displaystyle - z^{2} \\left(a z + b z^{2} + 1\\right) \\cos{\\left(k z \\right)}$"
      ],
      "text/plain": [
       "-z**2*(a*z + b*z**2 + 1)*cos(k*z)"
      ]
     },
     "execution_count": 6,
     "metadata": {},
     "output_type": "execute_result"
    }
   ],
   "source": [
    "integrand2=diff(integrand1,k)\n",
    "integrand2"
   ]
  },
  {
   "cell_type": "code",
   "execution_count": 7,
   "id": "68efb7f3-c0b0-4723-bcc9-640a65e7a73a",
   "metadata": {},
   "outputs": [
    {
     "data": {
      "text/latex": [
       "$\\displaystyle 0.000284774720798549$"
      ],
      "text/plain": [
       "0.000284774720798549"
      ]
     },
     "execution_count": 7,
     "metadata": {},
     "output_type": "execute_result"
    }
   ],
   "source": [
    "Tkpp=integrate(integrand2,(z,-Dz,+Dz))\n",
    "# display_pretty(simplify(Tkpp))\n",
    "# simplify(Tkpp)\n",
    "\n",
    "Tkpp=Tkpp/V0\n",
    "# Tkpp\n",
    "Tkpp.evalf(subs=vs)   # eval simpy"
   ]
  },
  {
   "cell_type": "code",
   "execution_count": 8,
   "id": "7cd0c22b",
   "metadata": {},
   "outputs": [
    {
     "name": "stdout",
     "output_type": "stream",
     "text": [
      "Piecewise((2*Dz**2*sin(Dz*k)/k + 4*Dz*cos(Dz*k)/k**2 - 4*sin(Dz*k)/k**3, (k > -oo) & (k < oo) & Ne(k, 0)), (2*Dz**3/3, True))\n",
      "0\n",
      "Piecewise((-b*(-Dz**4*sin(Dz*k)/k - 4*Dz**3*cos(Dz*k)/k**2 + 12*Dz**2*sin(Dz*k)/k**3 + 24*Dz*cos(Dz*k)/k**4 - 24*sin(Dz*k)/k**5) + b*(Dz**4*sin(Dz*k)/k + 4*Dz**3*cos(Dz*k)/k**2 - 12*Dz**2*sin(Dz*k)/k**3 - 24*Dz*cos(Dz*k)/k**4 + 24*sin(Dz*k)/k**5), (k > -oo) & (k < oo) & Ne(k, 0)), (2*Dz**5*b/5, True))\n"
     ]
    }
   ],
   "source": [
    "i1=z**2*cos(k*z)\n",
    "i2=a*z**3*cos(k*z)\n",
    "i3=b*z**4*cos(k*z)\n",
    "I1=integrate(i1,(z,-Dz,+Dz))\n",
    "I2=integrate(i2,(z,-Dz,+Dz))\n",
    "I3=integrate(i3,(z,-Dz,+Dz))\n",
    "print(I1)\n",
    "print(I2)\n",
    "print(I3)\n"
   ]
  },
  {
   "cell_type": "code",
   "execution_count": 9,
   "id": "3e14b5c2",
   "metadata": {},
   "outputs": [
    {
     "name": "stdout",
     "output_type": "stream",
     "text": [
      "{'b': 0.015, 'k': 52, 'Dz': 0.05}\n",
      "-0.000284774720798549\n",
      "-0.000284774720798549\n"
     ]
    }
   ],
   "source": [
    "vs=dict(b=1.5e-2,k=52,Dz=0.05)  # some test values\n",
    "print(vs)\n",
    "Tkpp=(I1+I2+I3)/V0\n",
    "print(Tkpp.evalf(subs=vs))   # eval sympy result\n",
    "\n",
    "def f3(b,k,Dz):\n",
    "    I1 = 2*Dz**2*sin(Dz*k)/k + 4*Dz*cos(Dz*k)/k**2 - 4*sin(Dz*k)/k**3\n",
    "    I3= -b*(-Dz**4*sin(Dz*k)/k - 4*Dz**3*cos(Dz*k)/k**2 + 12*Dz**2*sin(Dz*k)/k**3 + 24*Dz*cos(Dz*k)/k**4 - 24*sin(Dz*k)/k**5) + b*(Dz**4*sin(Dz*k)/k + 4*Dz**3*cos(Dz*k)/k**2 - 12*Dz**2*sin(Dz*k)/k**3 - 24*Dz*cos(Dz*k)/k**4 + 24*sin(Dz*k)/k**5)\n",
    "    r = I1+I3\n",
    "    return r\n",
    "print(f3(**vs)/V0.evalf(subs=vs))"
   ]
  },
  {
   "cell_type": "code",
   "execution_count": 10,
   "id": "b42d2f99",
   "metadata": {},
   "outputs": [
    {
     "name": "stdout",
     "output_type": "stream",
     "text": [
      "{'b': 1e-05, 'k': 1571.0, 'Dz': 0.05}\n"
     ]
    },
    {
     "data": {
      "text/latex": [
       "$\\displaystyle -1.13432061728485 \\cdot 10^{-6}$"
      ],
      "text/plain": [
       "-1.13432061728485e-6"
      ]
     },
     "execution_count": 10,
     "metadata": {},
     "output_type": "execute_result"
    }
   ],
   "source": [
    "fq=750e6   # frequenz\n",
    "cl=3e8     # c-licht\n",
    "beta=0.01\n",
    "pi=3.142\n",
    "k=2*pi*fq/cl/beta            # k = omega/(c*beta)\n",
    "vs=dict(b=1e-5,k=k,Dz=0.05)  # some test values mit beta = 10**(-2)\n",
    "print(vs)\n",
    "Tkpp.evalf(subs=vs)   # eval sympy result"
   ]
  },
  {
   "cell_type": "code",
   "execution_count": 11,
   "id": "b2abc773",
   "metadata": {},
   "outputs": [
    {
     "name": "stdout",
     "output_type": "stream",
     "text": [
      "{'b': 1e-05, 'k': 15.71, 'Dz': 0.05}\n"
     ]
    },
    {
     "data": {
      "text/latex": [
       "$\\displaystyle 0.000684656166544629$"
      ],
      "text/plain": [
       "0.000684656166544629"
      ]
     },
     "execution_count": 11,
     "metadata": {},
     "output_type": "execute_result"
    }
   ],
   "source": [
    "vs=dict(b=1e-5,k=k/100,Dz=0.05)  # same test values mit beta = 1\n",
    "print(vs)\n",
    "Tkpp.evalf(subs=vs)   # eval sympy result"
   ]
  },
  {
   "cell_type": "code",
   "execution_count": null,
   "id": "7ec6b054-18a1-4b29-9dc1-84cd1add606e",
   "metadata": {},
   "outputs": [],
   "source": []
  }
 ],
 "metadata": {
  "kernelspec": {
   "display_name": "py311",
   "language": "python",
   "name": "python3"
  },
  "language_info": {
   "codemirror_mode": {
    "name": "ipython",
    "version": 3
   },
   "file_extension": ".py",
   "mimetype": "text/x-python",
   "name": "python",
   "nbconvert_exporter": "python",
   "pygments_lexer": "ipython3",
   "version": "3.11.11"
  }
 },
 "nbformat": 4,
 "nbformat_minor": 5
}
