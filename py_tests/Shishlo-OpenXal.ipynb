{
 "cells": [
  {
   "cell_type": "markdown",
   "id": "4c6a3384-99aa-4868-b127-9644f327684a",
   "metadata": {},
   "source": [
    "Shislo's 4.6.1 formula     $\\Delta W$"
   ]
  },
  {
   "cell_type": "code",
   "execution_count": 1,
   "id": "8e264ccd-c310-4903-88a8-194b4536ef4e",
   "metadata": {
    "editable": true,
    "slideshow": {
     "slide_type": ""
    },
    "tags": []
   },
   "outputs": [],
   "source": [
    "from sympy import *\n",
    "from IPython.display import Math, display_latex,display_pretty,display_pdf\n",
    "# init_printing(pretty_print=True,use_unicode=True)"
   ]
  },
  {
   "cell_type": "code",
   "execution_count": 3,
   "id": "17644f79",
   "metadata": {
    "editable": true,
    "slideshow": {
     "slide_type": ""
    },
    "tags": []
   },
   "outputs": [
    {
     "data": {
      "text/plain": [
       "qV0*(Sks*gs**2*ks*z*cos(ps) - Sks*gs**2*sin(ps) - Spks*dp2ps*ks**2*z*cos(ps) + Spks*dp2ps*ks*sin(ps) + Tks*gs**2*ks*z*sin(ps) + Tks*gs**2*cos(ps) - Tpks*dp2ps*ks**2*z*sin(ps) - Tpks*dp2ps*ks*cos(ps))/gs**2"
      ]
     },
     "metadata": {},
     "output_type": "display_data"
    },
    {
     "data": {
      "text/latex": [
       "$\\displaystyle W^{out}-W^{in} = qV0*(-(Sks - Spks*dp2ps*ks/gs**2)*(-ks*z*cos(ps) + sin(ps)) + (Tks - Tpks*dp2ps*ks/gs**2)*(ks*z*sin(ps) + cos(ps)))$"
      ]
     },
     "metadata": {},
     "output_type": "display_data"
    }
   ],
   "source": [
    "qV0,k,ks,phis,om,mc3,gbs,cl,bs,db2bs,gs,z,ps,dp2ps = symbols('qV0,k,ks,phis,om,mc3,gbs,cl,bs,db2bs,gs,z,ps,dp2ps')\n",
    "Tk,Tks,Tpk,Tpks,Tppks,Sk,Sks,Spk,Spks,Sppks =symbols('Tk,Tks,Tpk,Tpks,Tppks,Sk,Sks,Spk,Spks,Sppks')\n",
    "db2bs = 1/gs**2*dp2ps\n",
    "Tk=Tks-Tpks*ks*db2bs\n",
    "Sk=Sks-Spks*ks*db2bs\n",
    "cphi=cos(ps)+sin(ps)*ks*z\n",
    "sphi=sin(ps)-cos(ps)*ks*z\n",
    "WoWi=qV0*(Tk*cphi-Sk*sphi)\n",
    "display_pretty(factor(WoWi))\n",
    "display_latex(Math(r'W^{1}-W^{2} = {0}'.format(WoWi,'{out}','{in}')))\n"
   ]
  },
  {
   "cell_type": "markdown",
   "id": "e861c8fa",
   "metadata": {
    "editable": true,
    "slideshow": {
     "slide_type": ""
    },
    "tags": []
   },
   "source": [
    "<html><pre>\n",
    "qV0,k,ks,phis,om,mc3,gbs,cl,bs,db2bs,gs,z,ps,dp2ps = symbols('qV0,k,ks,phis,om,mc3,gbs,cl,bs,db2bs,gs,z,ps,dp2ps')\n",
    "Tk,Tks,Tpk,Tpks,Tppks,Sk,Sks,Spk,Spks,Sppks =symbols('Tk,Tks,Tpk,Tpks,Tppks,Sk,Sks,Spk,Spks,Sppks')\n",
    "db2bs = 1/gs**2*dp2ps\n",
    "Tk=Tks-Tpks*ks*db2bs\n",
    "Sk=Sks-Spks*ks*db2bs\n",
    "cphi=cos(ps)+sin(ps)*ks*z\n",
    "sphi=sin(ps)-cos(ps)*ks*z\n",
    "WoWi=qV0*(Tk*cphi-Sk*sphi)\n",
    "display_pretty(factor(WoWi))\n",
    "display_latex(Math(r'W^{1}-W^{2} = {0}'.format(WoWi,'{out}','{in}')))\n",
    "</pre>\n",
    "\n",
    "<h4>Erklärung durch umordnen und ausklammern:</h4>\n",
    "<pre>\n",
    "WoWi=Wout-Win=qV0*(\n",
    "\t+ Tks*cos(ps)                 - Sks*sin(ps)                       # O(0)\n",
    "\t+ Sks*ks*z*cos(ps)            + Tks*ks*z*sin(ps)                  # O(1) ~z\n",
    "\t+ (Spks*dp2ps*ks*sin(ps)      - Tpks*dp2ps*ks*cos(ps))/gs**2      # O(1) ~dp2p\n",
    "\t- (Spks*dp2ps*ks**2*z*cos(ps) - Tpks*dp2ps*ks**2*z*sin(ps))/gs**2 # O(2) ~dp2p*z\n",
    ")\n",
    "</pre></html>"
   ]
  },
  {
   "cell_type": "markdown",
   "id": "35f90372-9300-44a0-bb0f-f82642828bc2",
   "metadata": {},
   "source": [
    "Shislo's 4.6.2 formula   $\\Delta \\phi $"
   ]
  },
  {
   "cell_type": "code",
   "execution_count": 6,
   "id": "b9478c2f",
   "metadata": {},
   "outputs": [
    {
     "data": {
      "text/plain": [
       "qV0*(bs**3*gs**3 - 3*dp2ps*gbs**3)*(Spks*gs**2*ks*z*sin(ps) + Spks*gs**2*cos(ps) - Sppks*dp2ps*ks**2*z*sin(ps) - Sppks*dp2ps*ks*cos(ps) - Tpks*gs**2*ks*z*cos(ps) + Tpks*gs**2*sin(ps) + Tppks*dp2ps*ks**2*z*cos(ps) - Tppks*dp2ps*ks*sin(ps))/(bs**3*gbs**3*gs**5*mc3)"
      ]
     },
     "metadata": {},
     "output_type": "display_data"
    },
    {
     "data": {
      "text/latex": [
       "$\\displaystyle \\phi^{out}-\\phi^{in} = qV0*(gbs**(-3) - 3*dp2ps/(bs**3*gs**3))*((Spks - Sppks*dp2ps*ks/gs**2)*(ks*z*sin(ps) + cos(ps)) + (Tpks - Tppks*dp2ps*ks/gs**2)*(-ks*z*cos(ps) + sin(ps)))/mc3$"
      ]
     },
     "metadata": {},
     "output_type": "display_data"
    }
   ],
   "source": [
    "Tpk=Tpks-Tppks*ks*db2bs\n",
    "Spk=Spks-Sppks*ks*db2bs\n",
    "gb3= 1/gbs**3-3/gs/bs**3*db2bs\n",
    "PoPi=qV0/mc3*gb3*(Tpk*sphi+Spk*cphi)\n",
    "display_pretty(factor(PoPi))\n",
    "display_latex(Math(r'\\phi^{1}-\\phi^{2} = {0}'.format(PoPi,'{out}','{in}')))"
   ]
  },
  {
   "cell_type": "markdown",
   "id": "4c6bc60e",
   "metadata": {},
   "source": [
    "<html><pre>\n",
    "Tpk=Tpks-Tppks*ks*db2bs\n",
    "Spk=Spks-Sppks*ks*db2bs\n",
    "gb3= 1/gbs**3-3/gs/bs**3*db2bs\n",
    "PoPi=qV0/mc3*gb3*(Tpk*sphi+Spk*cphi)\n",
    "display_pretty(factor(PoPi))\n",
    "display_latex(Math(r'\\phi^{1}-\\phi^{2} = {0}'.format(PoPi,'{out}','{in}')))\n",
    "</pre>\n",
    "\n",
    "<h4>Erklärung durch umordnen und ausklammern:</h4>\n",
    "\n",
    "<pre>\n",
    "PoPi=Phiout-Phiin=qV0*(bs**3*gs**3 *\n",
    "    (\t\n",
    "\t+ Spks*gs**2*cos(ps)            + Tpks*gs**2*sin(ps)              # O(0)\n",
    "\t+ Spks*gs**2*ks*z*sin(ps)       - Tpks*gs**2*ks*z*cos(ps)         # O(1)  ~z\n",
    "\t- Sppks*dp2ps*ks*cos(ps)        - Tppks*dp2ps*ks*sin(ps)          # O(1)  ~dp2p\n",
    "\t- Sppks*dp2ps*ks**2*z*sin(ps)   + Tppks*dp2ps*ks**2*z*cos(ps)     # O(2)  ~dpd2p*z\n",
    "\t) \n",
    "\n",
    "- 3*dp2ps*gbs**3*\n",
    "    (\t\n",
    "\t+ Spks*gs**2*ks*z*sin(ps)       - Tpks*gs**2*ks*z*cos(ps)         # O(2)\n",
    "\t- Sppks*dp2ps*ks*cos(ps)        - Tppks*dp2ps*ks*sin(ps)          # O(2)\n",
    "\t+ Spks*gs**2*cos(ps)            + Tpks*gs**2*sin(ps)              # O(1)\n",
    "\t- Sppks*dp2ps*ks**2*z*sin(ps)   + Tppks*dp2ps*ks**2*z*cos(ps))    # O(3)\n",
    "\t)\n",
    "/(bs**3*gbs**3*gs**5*mc3)\n",
    "</pre><html>"
   ]
  },
  {
   "cell_type": "markdown",
   "id": "cadfa418",
   "metadata": {},
   "source": [
    "INput: $W^{in}, W^{in}_s$ mit $W^{in}=W^{in}_s+\\Delta W^{in}$ - OUTput: $W^{out}, W^{out}_s$ - Index s für Sollteilchen <br><br>\n",
    "$W^{out}-W^{in}=\\Delta W=Formel(4.6.1)$ für $(z,\\delta p /p) \\ne (0,0)$<br>\n",
    "$W^{out}_s-W^{in}_s=\\Delta W_s=Formel(4.6.1)$ für $(z,\\delta p /p) = (0,0)$<br><br>\n",
    "$W^{out}-W^{out}_s=\\Delta W +W^{in} -(\\Delta W_s + W^{in}_s)=\\Delta W -\\Delta W_s - \\Delta W^{in}$<br><br>\n",
    "Dasselbe sollte für die Phase $\\phi$ mit $Formel (4.6.2)$ gelten."
   ]
  },
  {
   "cell_type": "code",
   "execution_count": null,
   "id": "6366bf9e-5bbc-479b-bc46-eeaeec1efe52",
   "metadata": {},
   "outputs": [],
   "source": []
  }
 ],
 "metadata": {
  "kernelspec": {
   "display_name": "py311",
   "language": "python",
   "name": "python3"
  },
  "language_info": {
   "codemirror_mode": {
    "name": "ipython",
    "version": 3
   },
   "file_extension": ".py",
   "mimetype": "text/x-python",
   "name": "python",
   "nbconvert_exporter": "python",
   "pygments_lexer": "ipython3",
   "version": "3.11.11"
  }
 },
 "nbformat": 4,
 "nbformat_minor": 5
}
