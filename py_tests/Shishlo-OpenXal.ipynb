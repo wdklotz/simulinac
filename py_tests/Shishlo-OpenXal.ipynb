{
 "cells": [
  {
   "cell_type": "markdown",
   "id": "4c6a3384-99aa-4868-b127-9644f327684a",
   "metadata": {},
   "source": [
    "Shislo's 4.6.1 formula     $\\Delta W$"
   ]
  },
  {
   "cell_type": "code",
   "execution_count": 10,
   "id": "8e264ccd-c310-4903-88a8-194b4536ef4e",
   "metadata": {},
   "outputs": [],
   "source": [
    "from sympy import *\n",
    "from IPython.display import Math, display_latex,display_pretty,display_pdf\n",
    "# init_printing(pretty_print=True,use_unicode=True)"
   ]
  },
  {
   "cell_type": "code",
   "execution_count": 11,
   "id": "17644f79",
   "metadata": {},
   "outputs": [
    {
     "data": {
      "text/plain": [
       "qV0*(Sks*bs*ks*z*cos(ps) - Sks*bs*sin(ps) - Spks*db*ks**2*z*cos(ps) + Spks*db*ks*sin(ps) + Tks*bs*ks*z*sin(ps) + Tks*bs*cos(ps) - Tpks*db*ks**2*z*sin(ps) - Tpks*db*ks*cos(ps))/bs"
      ]
     },
     "metadata": {},
     "output_type": "display_data"
    },
    {
     "data": {
      "text/latex": [
       "$\\displaystyle W^{out}-W^{in} = qV0*(-(Sks - Spks*db*ks/bs)*(-ks*z*cos(ps) + sin(ps)) + (Tks - Tpks*db*ks/bs)*(ks*z*sin(ps) + cos(ps)))$"
      ]
     },
     "metadata": {},
     "output_type": "display_data"
    }
   ],
   "source": [
    "qV0,k,ks,phis,om,mc3,gbs,cl,db,bs,gs,z,ps = symbols('qV0,k,ks,phis,om,mc3,gbs,cl,db,bs,gs,z,ps')\n",
    "Tk,Tks,Tpk,Tpks,Tppks,Sk,Sks,Spk,Spks,Sppks =symbols('Tk,Tks,Tpk,Tpks,Tppks,Sk,Sks,Spk,Spks,Sppks')\n",
    "Tk=Tks-Tpks*ks*db/bs\n",
    "Sk=Sks-Spks*ks*db/bs\n",
    "cphi=cos(ps)+sin(ps)*ks*z\n",
    "sphi=sin(ps)-cos(ps)*ks*z\n",
    "WoWi=qV0*(Tk*cphi-Sk*sphi)\n",
    "display_pretty(factor(WoWi))\n",
    "display_latex(Math(r'W^{1}-W^{2} = {0}'.format(WoWi,'{out}','{in}')))\n"
   ]
  },
  {
   "cell_type": "markdown",
   "id": "e861c8fa",
   "metadata": {},
   "source": [
    "<html><pre>\n",
    "qV0,k,ks,phis,om,mc3,gbs,cl,db,bs,z,ps = symbols('qV0,k,ks,phis,om,mc3,gbs,cl,db,bs,z,ps')\n",
    "Tk,Tks,Tpk,Tpks,Sk,Sks,Spk,Spks =symbols('Tk,Tks,Tpk,Tpks,Sk,Sks,Spk,Spks')\n",
    "Tk=Tks-Tpks*ks*db/bs          (4.6.3)\n",
    "Sk=Sks-Spks*ks*db/bs\n",
    "cphi=cos(ps)+sin(ps)*ks*z     (4.6.6)\n",
    "sphi=sin(ps)-cos(ps)*ks*z\n",
    "WoWi=qV0*(Tk*cphi-Sk*sphi)    (4.6.1)\n",
    "display_pretty(factor(WoWi))\n",
    "display_latex(Math(r'W^{1}-W^{2} = {0}'.format(WoWi,'{out}','{in}')))\n",
    "</pre>\n",
    "\n",
    "<h4>Erklärung durch umordnen und ausklammern:</h4>\n",
    "<pre>\n",
    "WoWi=Wout-Win=qV0*(\n",
    "+(Tks*cos(ps)  - Sks*sin(ps))*bs            ist O(0)    sollTeilchen\n",
    "+(Tks*sin(ps)  + Sks*cos(ps))*bs*ks*z       ist O(1)   ~z,              ist 0 fÜr z=0              \\\n",
    "-(Tpks*cos(ps) + Spks*sin(ps))*ks*db        ist O(1)   ~(delta beta),   ist 0 für (delta beta)=0    |  i.e. offTeilchen\n",
    "-(Tpks*sin(ps) - Spks*cos(ps))*ks**2*z*db   ist O(2)   ~(delta beta)*z, ist 0 für (delta beta)=z=0 /\n",
    ")/bs\n",
    "</pre></html>"
   ]
  },
  {
   "cell_type": "markdown",
   "id": "35f90372-9300-44a0-bb0f-f82642828bc2",
   "metadata": {},
   "source": [
    "Shislo's 4.6.2 formula   $\\Delta \\phi $"
   ]
  },
  {
   "cell_type": "code",
   "execution_count": 12,
   "id": "b9478c2f",
   "metadata": {},
   "outputs": [
    {
     "data": {
      "text/plain": [
       "qV0*(bs**4*gs - 3*db*gbs**3)*(Spks*bs*ks*z*sin(ps) + Spks*bs*cos(ps) - Sppks*db*ks**2*z*sin(ps) - Sppks*db*ks*cos(ps) - Tpks*bs*ks*z*cos(ps) + Tpks*bs*sin(ps) + Tppks*db*ks**2*z*cos(ps) - Tppks*db*ks*sin(ps))/(bs**5*gbs**3*gs*mc3)"
      ]
     },
     "metadata": {},
     "output_type": "display_data"
    },
    {
     "data": {
      "text/latex": [
       "$\\displaystyle \\phi^{out}-\\phi^{in} = qV0*(gbs**(-3) - 3*db/(bs**4*gs))*((Spks - Sppks*db*ks/bs)*(ks*z*sin(ps) + cos(ps)) + (Tpks - Tppks*db*ks/bs)*(-ks*z*cos(ps) + sin(ps)))/mc3$"
      ]
     },
     "metadata": {},
     "output_type": "display_data"
    }
   ],
   "source": [
    "Tpk=Tpks-Tppks*ks*db/bs\n",
    "Spk=Spks-Sppks*ks*db/bs\n",
    "gb3= 1/gbs**3-3/gs/bs**3*db/bs\n",
    "PoPi=qV0/mc3*gb3*(Tpk*sphi+Spk*cphi)\n",
    "display_pretty(factor(PoPi))\n",
    "display_latex(Math(r'\\phi^{1}-\\phi^{2} = {0}'.format(PoPi,'{out}','{in}')))"
   ]
  },
  {
   "cell_type": "markdown",
   "id": "4c6bc60e",
   "metadata": {},
   "source": [
    "<html><pre>\n",
    "Tpk=Tpks-Tppks*ks*db/bs\n",
    "Spk=Spks-Sppks*ks*db/bs\n",
    "gb3= 1/gbs**3-3/gs/bs**3*db/bs\n",
    "PoPi=qV0/mc3*gb3*(Tpk*sphi+Spk*cphi)\n",
    "display_pretty(factor(PoPi))\n",
    "display_latex(Math(r'\\phi^{1}-\\phi^{2} = {0}'.format(PoPi,'{out}','{in}')))\n",
    "</pre>\n",
    "\n",
    "<h4>Erklärung durch umordnen und ausklammern:</h4>\n",
    "\n",
    "<pre>\n",
    "PoPi=Phiout-Phiin=qV0*(bs**4*gs - 3*db*gbs**3)*(\n",
    "+ (Spks*cos(ps)  + Tpks*sin(ps))*bs          # O(0) sollTeilchen\n",
    "+ (Spks*sin(ps)  - Tpks*cos(ps))*bs*ks*z     # O(1) ~z\n",
    "- (Sppks*cos(ps) - Tppks*sin(ps))*ks*db      # O(1) ~(delta beta)\n",
    "- (Sppks*sin(ps) + Tppks*cos(ps))*ks**2*z*db # O(2) ~(delta beta)*z\n",
    ")/(bs**5*gbs**3*gs*mc3)\n",
    "</pre><html>"
   ]
  },
  {
   "cell_type": "markdown",
   "id": "cadfa418",
   "metadata": {},
   "source": [
    "INput: $W^{in}, W^{in}_s$ mit $W^{in}=W^{in}_s+\\Delta W^{in}$ - OUTput: $W^{out}, W^{out}_s$ - Index s für Sollteilchen <br><br>\n",
    "$W^{out}-W^{in}=\\Delta W=Formel(4.6.1)$ für $(z,\\delta p /p) \\ne (0,0)$<br>\n",
    "$W^{out}_s-W^{in}_s=\\Delta W_s=Formel(4.6.1)$ für $(z,\\delta p /p) = (0,0)$<br><br>\n",
    "$W^{out}-W^{out}_s=\\Delta W +W^{in} -(\\Delta W_s + W^{in}_s)=\\Delta W -\\Delta W_s - \\Delta W^{in}$<br><br>\n",
    "Dasselbe sollte für die Phase $\\phi$ mit $Formel (4.6.2)$ gelten."
   ]
  }
 ],
 "metadata": {
  "kernelspec": {
   "display_name": "py311",
   "language": "python",
   "name": "python3"
  },
  "language_info": {
   "codemirror_mode": {
    "name": "ipython",
    "version": 3
   },
   "file_extension": ".py",
   "mimetype": "text/x-python",
   "name": "python",
   "nbconvert_exporter": "python",
   "pygments_lexer": "ipython3",
   "version": "3.11.11"
  }
 },
 "nbformat": 4,
 "nbformat_minor": 5
}
