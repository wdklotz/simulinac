{
 "cells": [
  {
   "cell_type": "markdown",
   "id": "4c6a3384-99aa-4868-b127-9644f327684a",
   "metadata": {},
   "source": [
    "Shislo's 4.6.1 formula     $\\Delta W$"
   ]
  },
  {
   "cell_type": "code",
   "execution_count": 5,
   "id": "8e264ccd-c310-4903-88a8-194b4536ef4e",
   "metadata": {
    "editable": true,
    "slideshow": {
     "slide_type": ""
    },
    "tags": []
   },
   "outputs": [],
   "source": [
    "from sympy import *\n",
    "from IPython.display import Math, display_latex,display_pretty,display_pdf\n",
    "# init_printing(pretty_print=True,use_unicode=True)"
   ]
  },
  {
   "cell_type": "code",
   "execution_count": 6,
   "id": "17644f79",
   "metadata": {
    "editable": true,
    "slideshow": {
     "slide_type": ""
    },
    "tags": []
   },
   "outputs": [
    {
     "data": {
      "text/plain": [
       "qV0*(Db2b*Dphi*Spk*cphi*k + Db2b*Dphi*Tpk*k*sphi + Db2b*Spk*k*sphi - Db2b*Tpk*cphi*k - Dphi*Sk*cphi - Dphi*Tk*sphi - Sk*sphi + Tk*cphi)"
      ]
     },
     "metadata": {},
     "output_type": "display_data"
    }
   ],
   "source": [
    "qV0,k,Db2b,Dphi,cphi,sphi = symbols('qV0,k,Db2b,Dphi,cphi,sphi')\n",
    "Tk,Tpk,Sk,Spk =symbols('Tk,Tpk,Sk,Spk')\n",
    "T=Tk-Tpk*k*Db2b\n",
    "S=Sk-Spk*k*Db2b\n",
    "cosphi=cphi-sphi*Dphi\n",
    "sinphi=sphi+cphi*Dphi\n",
    "WoWi=qV0*(T*cosphi-S*sinphi)    # Shishlo 4.6.1\n",
    "display_pretty(factor(WoWi))\n",
    "# display_latex(Math(r'W^{1}-W^{2} = {0}'.format(WoWi,'{out}','{in}')))\n"
   ]
  },
  {
   "cell_type": "code",
   "execution_count": 12,
   "id": "0effe7a8",
   "metadata": {},
   "outputs": [
    {
     "data": {
      "text/plain": [
       "-om*qV0*(-3*Db2b*gb3 + b**3*g)*(Dphi*Spk*sphi - Dphi*Tpk*cphi - Spk*cphi - Tpk*sphi)/(b**3*g*gb3*mc3)"
      ]
     },
     "metadata": {},
     "output_type": "display_data"
    }
   ],
   "source": [
    "Tppk,Sppk,om,mc3,g,b,gb3 = symbols('Tppk,Sppk,om,mc3,g,b,gb3')\n",
    "PoPi=qV0*om/mc3*(Tpk*sinphi+Spk*cosphi)*(1/gb3-3/(g*b**3)*Db2b)\n",
    "display_pretty(factor(PoPi))"
   ]
  },
  {
   "cell_type": "markdown",
   "id": "35f90372-9300-44a0-bb0f-f82642828bc2",
   "metadata": {},
   "source": [
    "Shislo's 4.6.2 formula   $\\Delta \\phi $"
   ]
  }
 ],
 "metadata": {
  "kernelspec": {
   "display_name": "py311",
   "language": "python",
   "name": "python3"
  },
  "language_info": {
   "codemirror_mode": {
    "name": "ipython",
    "version": 3
   },
   "file_extension": ".py",
   "mimetype": "text/x-python",
   "name": "python",
   "nbconvert_exporter": "python",
   "pygments_lexer": "ipython3",
   "version": "3.11.11"
  }
 },
 "nbformat": 4,
 "nbformat_minor": 5
}
