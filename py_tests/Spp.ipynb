{
 "cells": [
  {
   "cell_type": "markdown",
   "id": "4c6a3384-99aa-4868-b127-9644f327684a",
   "metadata": {},
   "source": [
    "# S(k),S'(k) and S''(k)"
   ]
  },
  {
   "cell_type": "code",
   "execution_count": 45,
   "id": "1e34680c",
   "metadata": {},
   "outputs": [
    {
     "data": {
      "text/latex": [
       "$\\displaystyle \\left(a z + b z^{2} + 1\\right) \\sin{\\left(k z \\right)}$"
      ],
      "text/plain": [
       "(a*z + b*z**2 + 1)*sin(k*z)"
      ]
     },
     "execution_count": 45,
     "metadata": {},
     "output_type": "execute_result"
    }
   ],
   "source": [
    "from sympy import *\n",
    "from IPython.display import Math, display_latex,display_pretty,display_pdf\n",
    "# init_printing(use_unicode=True)\n",
    "\n",
    "a,b,k,z,Dz = symbols('a b k z Dz')\n",
    "poly=1+a*z+b*z**2\n",
    "integrand=poly*sin(k*z)\n",
    "integrand"
   ]
  },
  {
   "cell_type": "code",
   "execution_count": 46,
   "id": "7ec6b054-18a1-4b29-9dc1-84cd1add606e",
   "metadata": {},
   "outputs": [
    {
     "data": {
      "text/latex": [
       "$\\displaystyle \\int\\limits_{- Dz}^{Dz} \\left(a z + b z^{2} + 1\\right) \\sin{\\left(k z \\right)}\\, dz$"
      ],
      "text/plain": [
       "Integral((a*z + b*z**2 + 1)*sin(k*z), (z, -Dz, Dz))"
      ]
     },
     "execution_count": 46,
     "metadata": {},
     "output_type": "execute_result"
    }
   ],
   "source": [
    "Integral(integrand,(z,-Dz,+Dz))   # Shishlo (4.4.5)\n"
   ]
  },
  {
   "cell_type": "code",
   "execution_count": 47,
   "id": "0c1e9c82",
   "metadata": {},
   "outputs": [
    {
     "data": {
      "text/latex": [
       "$\\displaystyle \\begin{cases} - \\frac{2 Dz a \\cos{\\left(Dz k \\right)}}{k} + \\frac{2 a \\sin{\\left(Dz k \\right)}}{k^{2}} & \\text{for}\\: k > -\\infty \\wedge k < \\infty \\wedge k \\neq 0 \\\\0 & \\text{otherwise} \\end{cases}$"
      ],
      "text/plain": [
       "Piecewise((-2*Dz*a*cos(Dz*k)/k + 2*a*sin(Dz*k)/k**2, (k > -oo) & (k < oo) & Ne(k, 0)), (0, True))"
      ]
     },
     "execution_count": 47,
     "metadata": {},
     "output_type": "execute_result"
    }
   ],
   "source": [
    "V0=2*Dz+2*b/3*(Dz)**3    # Shishlo (4.4.3)\n",
    "Sk=integrate(integrand,(z,-Dz,+Dz))\n",
    "Sk\n"
   ]
  },
  {
   "cell_type": "code",
   "execution_count": 48,
   "id": "76f3718a",
   "metadata": {},
   "outputs": [
    {
     "name": "stdout",
     "output_type": "stream",
     "text": [
      "0.00304368843013064\n"
     ]
    },
    {
     "data": {
      "text/plain": [
       "Piecewise((-2*Dz*a*cos(Dz*k)/k + 2*a*sin(Dz*k)/k**2, (k > -oo) & (k < oo) & Ne(k, 0)), (0, True))/(2*Dz**3*b/3 + 2*Dz)"
      ]
     },
     "metadata": {},
     "output_type": "display_data"
    },
    {
     "data": {
      "text/latex": [
       "$\\displaystyle 0.000304372647623601$"
      ],
      "text/plain": [
       "0.000304372647623601"
      ]
     },
     "execution_count": 48,
     "metadata": {},
     "output_type": "execute_result"
    }
   ],
   "source": [
    "vs=dict(a=0.15,b=1.5e-2,k=52,Dz=0.05)  # some test values\n",
    "exsimp=simplify(Sk/V0)    # Shishlo (4.4.4)\n",
    "print(exsimp.evalf(subs=vs))   # eval sympy result\n",
    "display_pretty(Sk/V0)\n",
    "def f1(a,b,k,Dz):\n",
    "    # r= 3*a*(-Dz*k*cos(Dz*k) + sin(Dz*k))/(Dz*k**2*(Dz**2*b + 3))  # from Shislo (4.4.6)\n",
    "    r= -2*Dz*a*cos(Dz*k)/k + 2*a*sin(Dz*k)/k**2\n",
    "    return r\n",
    "f1(**vs)   # eval Shishlo"
   ]
  },
  {
   "cell_type": "code",
   "execution_count": 49,
   "id": "e52ae008",
   "metadata": {},
   "outputs": [
    {
     "data": {
      "text/plain": [
       "z*(a*z + b*z**2 + 1)*cos(k*z)"
      ]
     },
     "metadata": {},
     "output_type": "display_data"
    }
   ],
   "source": [
    "integrand1=diff(integrand,k)\n",
    "display_pretty(integrand1)"
   ]
  },
  {
   "cell_type": "code",
   "execution_count": 50,
   "id": "8a38078a",
   "metadata": {},
   "outputs": [
    {
     "data": {
      "text/latex": [
       "$\\displaystyle \\int\\limits_{- Dz}^{Dz} z \\left(a z + b z^{2} + 1\\right) \\cos{\\left(k z \\right)}\\, dz$"
      ],
      "text/plain": [
       "Integral(z*(a*z + b*z**2 + 1)*cos(k*z), (z, -Dz, Dz))"
      ]
     },
     "execution_count": 50,
     "metadata": {},
     "output_type": "execute_result"
    }
   ],
   "source": [
    "Integral(integrand1,(z,-Dz,+Dz))   # Shishlo (4.4.5)\n"
   ]
  },
  {
   "cell_type": "code",
   "execution_count": 51,
   "id": "a9ec7483",
   "metadata": {},
   "outputs": [
    {
     "data": {
      "text/latex": [
       "$\\displaystyle \\begin{cases} \\frac{2 Dz^{2} a \\sin{\\left(Dz k \\right)}}{k} + \\frac{4 Dz a \\cos{\\left(Dz k \\right)}}{k^{2}} - \\frac{4 a \\sin{\\left(Dz k \\right)}}{k^{3}} & \\text{for}\\: k > -\\infty \\wedge k < \\infty \\wedge k \\neq 0 \\\\\\frac{2 Dz^{3} a}{3} & \\text{otherwise} \\end{cases}$"
      ],
      "text/plain": [
       "Piecewise((2*Dz**2*a*sin(Dz*k)/k + 4*Dz*a*cos(Dz*k)/k**2 - 4*a*sin(Dz*k)/k**3, (k > -oo) & (k < oo) & Ne(k, 0)), (2*Dz**3*a/3, True))"
      ]
     },
     "execution_count": 51,
     "metadata": {},
     "output_type": "execute_result"
    }
   ],
   "source": [
    "Skp=integrate(integrand1,(z,-Dz,+Dz))\n",
    "Skp\n"
   ]
  },
  {
   "cell_type": "code",
   "execution_count": 52,
   "id": "082cc70a",
   "metadata": {},
   "outputs": [
    {
     "data": {
      "text/plain": [
       "Piecewise((2*Dz**2*a*sin(Dz*k)/k + 4*Dz*a*cos(Dz*k)/k**2 - 4*a*sin(Dz*k)/k**3, (k > -oo) & (k < oo) & Ne(k, 0)), (2*Dz**3*a/3, True))/(2*Dz**3*b/3 + 2*Dz)"
      ]
     },
     "metadata": {},
     "output_type": "display_data"
    },
    {
     "data": {
      "text/latex": [
       "$\\displaystyle -4.27152435348278 \\cdot 10^{-6}$"
      ],
      "text/plain": [
       "-4.27152435348278e-6"
      ]
     },
     "execution_count": 52,
     "metadata": {},
     "output_type": "execute_result"
    }
   ],
   "source": [
    "display_pretty(Skp/V0)\n",
    "def f2(a,b,k,Dz):\n",
    "    r= 2*Dz**2*a*sin(Dz*k)/k + 4*Dz*a*cos(Dz*k)/k**2 - 4*a*sin(Dz*k)/k**3  # from Shislo (4.4.6)\n",
    "    return r\n",
    "f2(**vs)   # eval Shishlo"
   ]
  },
  {
   "cell_type": "code",
   "execution_count": 53,
   "id": "9b2a6166",
   "metadata": {},
   "outputs": [
    {
     "data": {
      "text/plain": [
       "z*(a*z + b*z**2 + 1)*cos(k*z)"
      ]
     },
     "metadata": {},
     "output_type": "display_data"
    }
   ],
   "source": [
    "integrand2=diff(integrand1,k)\n",
    "display_pretty(integrand1)"
   ]
  },
  {
   "cell_type": "code",
   "execution_count": 54,
   "id": "329da707",
   "metadata": {},
   "outputs": [
    {
     "data": {
      "text/latex": [
       "$\\displaystyle \\int\\limits_{- Dz}^{Dz} \\left(- z^{2} \\left(a z + b z^{2} + 1\\right) \\sin{\\left(k z \\right)}\\right)\\, dz$"
      ],
      "text/plain": [
       "Integral(-z**2*(a*z + b*z**2 + 1)*sin(k*z), (z, -Dz, Dz))"
      ]
     },
     "execution_count": 54,
     "metadata": {},
     "output_type": "execute_result"
    }
   ],
   "source": [
    "Integral(integrand2,(z,-Dz,+Dz))   # Shishlo (4.4.5)\n"
   ]
  },
  {
   "cell_type": "code",
   "execution_count": 55,
   "id": "2d22ae69",
   "metadata": {},
   "outputs": [
    {
     "data": {
      "text/latex": [
       "$\\displaystyle \\begin{cases} \\frac{2 Dz^{3} a \\cos{\\left(Dz k \\right)}}{k} - \\frac{6 Dz^{2} a \\sin{\\left(Dz k \\right)}}{k^{2}} - \\frac{12 Dz a \\cos{\\left(Dz k \\right)}}{k^{3}} + \\frac{12 a \\sin{\\left(Dz k \\right)}}{k^{4}} & \\text{for}\\: k > -\\infty \\wedge k < \\infty \\wedge k \\neq 0 \\\\0 & \\text{otherwise} \\end{cases}$"
      ],
      "text/plain": [
       "Piecewise((2*Dz**3*a*cos(Dz*k)/k - 6*Dz**2*a*sin(Dz*k)/k**2 - 12*Dz*a*cos(Dz*k)/k**3 + 12*a*sin(Dz*k)/k**4, (k > -oo) & (k < oo) & Ne(k, 0)), (0, True))"
      ]
     },
     "execution_count": 55,
     "metadata": {},
     "output_type": "execute_result"
    }
   ],
   "source": [
    "Skpp=integrate(integrand2,(z,-Dz,+Dz))\n",
    "Skpp\n"
   ]
  },
  {
   "cell_type": "code",
   "execution_count": 56,
   "id": "dd0cfbbf",
   "metadata": {},
   "outputs": [
    {
     "data": {
      "text/plain": [
       "Piecewise((2*Dz**3*a*cos(Dz*k)/k - 6*Dz**2*a*sin(Dz*k)/k**2 - 12*Dz*a*cos(Dz*k)/k**3 + 12*a*sin(Dz*k)/k**4, (k > -oo) & (k < oo) & Ne(k, 0)), (0, True))/(2*Dz**3*b/3 + 2*Dz)"
      ]
     },
     "metadata": {},
     "output_type": "display_data"
    },
    {
     "data": {
      "text/latex": [
       "$\\displaystyle -3.71514522901677 \\cdot 10^{-7}$"
      ],
      "text/plain": [
       "-3.71514522901677e-7"
      ]
     },
     "execution_count": 56,
     "metadata": {},
     "output_type": "execute_result"
    }
   ],
   "source": [
    "display_pretty(Skpp/V0)\n",
    "def f3(a,b,k,Dz):\n",
    "    r= 2*Dz**3*a*cos(Dz*k)/k - 6*Dz**2*a*sin(Dz*k)/k**2 - 12*Dz*a*cos(Dz*k)/k**3 + 12*a*sin(Dz*k)/k**4  # from Shislo (4.4.6)\n",
    "    return r\n",
    "f3(**vs)   # eval Shishlo"
   ]
  }
 ],
 "metadata": {
  "kernelspec": {
   "display_name": "Python 3 (ipykernel)",
   "language": "python",
   "name": "python3"
  },
  "language_info": {
   "codemirror_mode": {
    "name": "ipython",
    "version": 3
   },
   "file_extension": ".py",
   "mimetype": "text/x-python",
   "name": "python",
   "nbconvert_exporter": "python",
   "pygments_lexer": "ipython3",
   "version": "3.11.11"
  }
 },
 "nbformat": 4,
 "nbformat_minor": 5
}
