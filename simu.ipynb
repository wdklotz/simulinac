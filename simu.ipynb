{
 "cells": [
  {
   "cell_type": "markdown",
   "metadata": {},
   "source": [
    "# Latest SIMULINAC"
   ]
  },
  {
   "cell_type": "code",
   "execution_count": 1,
   "metadata": {
    "jupyter": {
     "source_hidden": true
    },
    "scrolled": true
   },
   "outputs": [
    {
     "name": "stdout",
     "output_type": "stream",
     "text": [
      "simu.py v11.0.3 on python 3.11.11 on win32\n",
      "This run: input(TT28_base.yml))\n",
      "Platform win32\n",
      "running in 'linac' mode\n",
      "\u001b[31m⛝  FINAL particle kinetic energy 200.487 [MeV] ⛝\u001b[m\n",
      "Full Accelerator Matrix\n",
      " Psp QF1 D3 DGAP1 RFG1 DGAP1 DGAP1 RFG1 DGAP1 DGAP.....DGAP2 DGAP2 RFG2 DGAP2 DGAP2 RFG2 DGAP2 D3 QF2 Psp\n",
      "  0.2786     1.978         0         0         0         0         0         0         0         0  \n",
      "-0.05813    0.1784         0         0         0         0         0         0         0         0  \n",
      "       0         0    0.9496    0.4013         0         0         0         0         0         0  \n",
      "       0         0   -0.2861   0.05256         0         0         0         0         0         0  \n",
      "       0         0         0         0    0.2654    0.8024         0         0         0         0  \n",
      "       0         0         0         0   -0.1864   0.05691         0         0         0         0  \n",
      "       0         0         0         0         0         0         1     194.5         0         0  \n",
      "       0         0         0         0         0         0         0         1         0         0  \n",
      "       0         0         0         0         0         0         0         0         1     379.9  \n",
      "       0         0         0         0         0         0         0         0         0         1  \n",
      "\n",
      "using @ entrance: [beta,  alfa,  gamma]-X    [beta,   alfa,   gamma]-Y\n",
      "                  [4.920, 0.000, 0.203]-X    [0.236,  -0.000,  4.237]-Y\n",
      "CALCULATE lattice functions & trajectories\n",
      "\u001b[31mWARN: Lattice has RF-gaps with non-linear mapping. ENVELOPES are calulated using T3D's RF-gaps (NT=10) instead.\n",
      "sigma ENVELOPES from TWISS parameters\u001b[m\n",
      "D3             ================= (MKSA units) =================\n",
      "                                 ID : D3 \n",
      "                             length :     0.03 \n",
      "                               type : D \n",
      "DGAP1             ================= (MKSA units) =================\n",
      "                                 ID : DGAP1 \n",
      "                             length :   0.0217 \n",
      "                                sec : LE \n",
      "                               type : DKD \n",
      "DGAP2             ================= (MKSA units) =================\n",
      "                                 ID : DGAP2 \n",
      "                             length :   0.0471 \n",
      "                                sec : HE \n",
      "                               type : DKD \n",
      "Psp             ================= (MKSA units) =================\n",
      "                                 ID : Psp \n",
      "                             action : pspace \n",
      "                             active : True \n",
      "                               type : MRK \n",
      "                              viseo :        5 \n",
      "QD1             ================= (MKSA units) =================\n",
      "                                 B' :       21 \n",
      "                              Bpole :    0.231 \n",
      "                                 ID : QD1 \n",
      "                           aperture :    0.011 \n",
      "                             length :     0.02 \n",
      "                                sec : LE \n",
      "                              thins :        1 \n",
      "                               type : QD \n",
      "QD2             ================= (MKSA units) =================\n",
      "                                 B' :       21 \n",
      "                              Bpole :    0.231 \n",
      "                                 ID : QD2 \n",
      "                           aperture :    0.011 \n",
      "                             length :     0.02 \n",
      "                                sec : HE \n",
      "                              thins :        1 \n",
      "                               type : QD \n",
      "QF1             ================= (MKSA units) =================\n",
      "                                 B' :       21 \n",
      "                              Bpole :    0.231 \n",
      "                                 ID : QF1 \n",
      "                           aperture :    0.011 \n",
      "                             length :     0.02 \n",
      "                                sec : LE \n",
      "                              thins :        1 \n",
      "                               type : QF \n",
      "QF2             ================= (MKSA units) =================\n",
      "                                 B' :       21 \n",
      "                              Bpole :    0.231 \n",
      "                                 ID : QF2 \n",
      "                           aperture :    0.011 \n",
      "                             length :     0.02 \n",
      "                                sec : HE \n",
      "                              thins :        1 \n",
      "                               type : QF \n",
      "RFG1             ================= (MKSA units) =================\n",
      "                             EzPeak :      1.1 \n",
      "                             HE_Gap : ignored \n",
      "                                 ID : RFG1 \n",
      "                             SFdata : ignored \n",
      "                           aperture :    0.011 \n",
      "                             cavlen : ignored \n",
      "                               freq :  7.5e+08 \n",
      "                                gap :   0.0217 \n",
      "                            mapping : base \n",
      "                            phisoll :      -30 \n",
      "                                sec : LE \n",
      "                               type : RFG \n",
      "RFG2             ================= (MKSA units) =================\n",
      "                             EzPeak :      1.5 \n",
      "                             HE_Gap : ignored \n",
      "                                 ID : RFG2 \n",
      "                             SFdata : ignored \n",
      "                           aperture :    0.011 \n",
      "                             cavlen : ignored \n",
      "                               freq :  7.5e+08 \n",
      "                                gap :   0.0642 \n",
      "                            mapping : base \n",
      "                            phisoll :      -30 \n",
      "                                sec : HE \n",
      "                               type : RFG \n",
      "PREPARE DISPLAY\n",
      "            =================== Summary ====================\n",
      "                        Description : Full linac run: TT28_base.yml \n",
      "                             Nsigma :        3 \n",
      "                      TTF (min,max) : 0.393836  0.85933 \n",
      "                   Tkin (i,f) [MeV] :        6  200.487 \n",
      "                              accON : True \n",
      "             disp_i,disp'_i [m,rad] : 0.00e+00  0.00e+00 \n",
      "             injection energy [MeV] :        6 \n",
      "                lattice length* [m] :   379.88 \n",
      "                    lattice version : working: 6->200MeV,base,LE,HE,300m \n",
      "                     nbof cavities* :     4600 \n",
      "                  nbof quadrupoles* :      760 \n",
      "            phase_advance x,y [deg] : 21052.87 21086.27 \n",
      "                       use aperture : False \n",
      "               use emittance growth : False \n",
      "                   use ring lattice : False \n",
      "                 use sigma tracking : False \n",
      "                              wmax* : 8.92e-05 max Δγ on separatrix \n",
      "                          |z0|* [m] : 6.25e-04 bunch length \n",
      "                             ΔT/T_i : 2.00e-03 energy-spread \n",
      "                     ΔWmax_i* [MeV] : 8.37e-02 max ΔW on separatrix \n",
      "                             Δp/p0* : 1.00e-03 impulse spread \n",
      "                      Δp/pmax_i [%] : 6.99e-01 max Δp/p on separatrix \n",
      "                         Δφ0* [rad] : 8.73e-02 phase \n",
      "                        βw_i* [rad] : 6.82e+03 {Δφ,δγ} \n",
      "                              δγ_i* : 1.28e-05 energy-spread \n",
      "                        εw_i* [rad] : 1.12e-06 {Δφ,δγ} \n",
      "                     εx_i [mrad*mm] :      0.5 \n",
      "                     εy_i [mrad*mm] :      0.5 \n",
      "                      σx'_i* [mrad] : 0.318788 \n",
      "                      σx_i*    [mm] :  1.56844 \n",
      "                      σy'_i* [mrad] :  1.45556 \n",
      "                      σy_i*    [mm] : 0.343511 \n",
      "                           ω* [MHz] : 5.33e+01 synchotron frquency \n",
      "\n"
     ]
    }
   ],
   "source": [
    "%run simu.py --file TT28_base.yml"
   ]
  },
  {
   "cell_type": "code",
   "execution_count": null,
   "metadata": {
    "collapsed": true,
    "jupyter": {
     "outputs_hidden": true,
     "source_hidden": true
    }
   },
   "outputs": [
    {
     "name": "stdout",
     "output_type": "stream",
     "text": [
      "tracker.py v11.0.3 on python 3.11.11 on win32\n",
      "This run: input(TT28_base.yml)\n",
      "Platform win32\n",
      "running in 'linac' mode\n",
      "            ================= Tracker Log ==================\n",
      "            Description............. : Full linac run: TT28_base.yml \n",
      "            Options................. : {'particles_per_bunch': 5000, 'show': True, 'save': False, 'skip': 1, 'losses': False, 'lrx': -1, 'h5dump': False, 'h5skip': 500, 'h5file': 'frames.h5'} \n",
      "            Tk_i...............[MeV] : 6.0 kin. energy @ injection \n",
      "            acceptance..Δp/p.....[%] : 0.699 \n",
      "            acceptance..Δγ.......... : 8.92e-05 \n",
      "            lattice version......... : working: 6->200MeV,base,LE,HE,300m \n",
      "            mapping................. : base \n",
      "            useaper................. : False \n",
      "            ΔT/T_i..(ΔW/W).......[%] : 0.200 kin. energy spread \n",
      "            Δp/p0................[%] : 0.100 \n",
      "            βw_i...............[rad] :  6823.31 \n",
      "            βx_i.................[m] :     4.92 \n",
      "            βy_i.................[m] :    0.236 \n",
      "            βz_i.............[m/rad] : 0.622868 \n",
      "            εw_i..{Δφ,Δγ}......[rad] : 1.12e-06 \n",
      "            εx_i.................[m] :    5e-07 \n",
      "            εy_i.................[m] :    5e-07 \n",
      "            εz_i..{z,Δp/p}.......[m] : 6.26845e-07 \n",
      "            σ(x,x')_i......([m,rad]) : 1.57e-03 3.19e-04 \n",
      "            σ(y,y')_i......([m,rad]) : 3.44e-04 1.46e-03 \n",
      "            σ(z,Δp/p)_i.......([m,]) : 6.25e-04 1.00e-03 \n",
      "            σ(Δφ,Δγ)_i......([deg,]) : 5.00e+00 1.28e-05 \n",
      "            σ(Δφ,Δγ)_i......([rad,]) : 8.73e-02 1.28e-05 \n",
      "\n",
      "\n",
      "Progress: |█████████████████████████████████████████████████-| 99.5% complete\n",
      "TRACKING DONE (particles 5000, live 5000, lost 0)\n",
      "FILL PLOTS\n",
      "DEBUG C:\\Users\\wdklo\\source\\repos\\wdklotz\\simulinac\\tracker.py, 179 ==> '(W-IN,W-OUT)=(np.float64(6.0), np.float64(200.48707662408953))'\n",
      "DEBUG C:\\Users\\wdklo\\source\\repos\\wdklotz\\simulinac\\tracker.py, 215 ==> '3-sigma longitudinal RMS-emittances ΔΦ-ΔW [deg,KeV]: IN=5.50e+02 OUT=1.84e+04'\n",
      "DEBUG C:\\Users\\wdklo\\source\\repos\\wdklotz\\simulinac\\tracker.py, 222 ==> \"3-sigma transverse RMS-emittances    x-x' [mm,mrad]: IN=4.46e+00 OUT=9.17e-01\"\n",
      "DEBUG C:\\Users\\wdklo\\source\\repos\\wdklotz\\simulinac\\tracker.py, 227 ==> \"3-sigma transverse RMS-emittances    y-y' [mm,mrad]: IN=4.38e+00 OUT=8.86e-01\"\n"
     ]
    }
   ],
   "source": [
    "%run tracker.py --file TT28_base.yml --p 5000"
   ]
  },
  {
   "cell_type": "code",
   "execution_count": null,
   "metadata": {
    "collapsed": true,
    "jupyter": {
     "outputs_hidden": true
    },
    "scrolled": true
   },
   "outputs": [],
   "source": [
    "%run tracker.py --file TT28_oxal.yml --p 5000"
   ]
  },
  {
   "cell_type": "code",
   "execution_count": null,
   "metadata": {
    "collapsed": true,
    "jupyter": {
     "outputs_hidden": true
    }
   },
   "outputs": [
    {
     "name": "stdout",
     "output_type": "stream",
     "text": [
      "tracker.py v11.0.3 on python 3.11.11 on win32\n",
      "This run: input(TT28_ttf.yml)\n",
      "Platform win32\n",
      "READING SF-DATA from \"SF/CAV-FLAT-R135-L32.TBL\"\n",
      "READING SF-DATA from \"SF/CAV-FLAT-R135-L32.TBL\"\n",
      "running in 'linac' mode\n",
      "            ================= Tracker Log ==================\n",
      "            Description............. : Full linac run: TT28_ttf.yml \n",
      "            Options................. : {'particles_per_bunch': 5000, 'show': True, 'save': False, 'skip': 1, 'losses': False, 'lrx': -1, 'h5dump': False, 'h5skip': 500, 'h5file': 'frames.h5'} \n",
      "            Tk_i...............[MeV] : 6.0 kin. energy @ injection \n",
      "            acceptance..Δp/p.....[%] : 1.112 \n",
      "            acceptance..Δγ.......... : 1.42e-04 \n",
      "            lattice version......... : working: 6->200MeV,base,LE,HE,300m \n",
      "            mapping................. : ttf \n",
      "            useaper................. : False \n",
      "            ΔT/T_i..(ΔW/W).......[%] : 0.200 kin. energy spread \n",
      "            Δp/p0................[%] : 0.100 \n",
      "            βw_i...............[rad] :  6823.31 \n",
      "            βx_i.................[m] :     4.92 \n",
      "            βy_i.................[m] :    0.236 \n",
      "            βz_i.............[m/rad] : 0.625023 \n",
      "            εw_i..{Δφ,Δγ}......[rad] : 1.12e-06 \n",
      "            εx_i.................[m] :    5e-07 \n",
      "            εy_i.................[m] :    5e-07 \n",
      "            εz_i..{z,Δp/p}.......[m] : 6.26117e-07 \n",
      "            σ(x,x')_i......([m,rad]) : 1.57e-03 3.19e-04 \n",
      "            σ(y,y')_i......([m,rad]) : 3.44e-04 1.46e-03 \n",
      "            σ(z,Δp/p)_i.......([m,]) : 6.26e-04 1.00e-03 \n",
      "            σ(Δφ,Δγ)_i......([deg,]) : 5.00e+00 1.28e-05 \n",
      "            σ(Δφ,Δγ)_i......([rad,]) : 8.73e-02 1.28e-05 \n",
      "\n",
      "\n",
      "Progress: |--------------------------------------------------| 0.0% complete"
     ]
    }
   ],
   "source": [
    "%run tracker.py --file TT28_ttf.yml --p 5000"
   ]
  }
 ],
 "metadata": {
  "kernelspec": {
   "display_name": "py311",
   "language": "python",
   "name": "python3"
  },
  "language_info": {
   "codemirror_mode": {
    "name": "ipython",
    "version": 3
   },
   "file_extension": ".py",
   "mimetype": "text/x-python",
   "name": "python",
   "nbconvert_exporter": "python",
   "pygments_lexer": "ipython3",
   "version": "3.11.11"
  },
  "toc-showcode": false,
  "toc-showmarkdowntxt": false,
  "toc-showtags": true
 },
 "nbformat": 4,
 "nbformat_minor": 4
}
